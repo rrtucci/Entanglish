{
 "cells": [
  {
   "cell_type": "markdown",
   "metadata": {},
   "source": [
    "<a href=\"./build/html/index.html\">open home directory</a>"
   ]
  },
  {
   "cell_type": "code",
   "execution_count": 1,
   "metadata": {},
   "outputs": [],
   "source": [
    "refresh_static_folder = True\n",
    "\n",
    "from shutil import copyfile\n",
    "if refresh_static_folder:\n",
    "    sphinx_prefix = 'source/_static/'\n",
    "    home_prefix = '../entanglish/'\n",
    "    cg_name = 'classgraph.pdf'\n",
    "    cgo_name = 'classgraph_orphans.html'\n",
    "    copyfile(home_prefix + cg_name, sphinx_prefix + cg_name)\n",
    "    copyfile(home_prefix + cgo_name, sphinx_prefix + cgo_name)"
   ]
  },
  {
   "cell_type": "code",
   "execution_count": 2,
   "metadata": {
    "scrolled": true
   },
   "outputs": [
    {
     "name": "stdout",
     "output_type": "stream",
     "text": [
      "Creating file source/entanglish.rst.\n",
      "Creating file source/entanglish.DenMat.rst.\n",
      "Creating file source/entanglish.DenMatPertTheory.rst.\n",
      "Creating file source/entanglish.EntangCase.rst.\n",
      "Creating file source/entanglish.FormationEnt.rst.\n",
      "Creating file source/entanglish.MaxEntangState.rst.\n",
      "Creating file source/entanglish.OtherStates.rst.\n",
      "Creating file source/entanglish.PureStEnt.rst.\n",
      "Creating file source/entanglish.SquashedEnt.rst.\n",
      "Creating file source/entanglish.SymNupState.rst.\n",
      "Creating file source/entanglish.TwoQubitState.rst.\n",
      "Creating file source/entanglish.classgraph.rst.\n",
      "Creating file source/entanglish.run_all_nb.rst.\n",
      "Creating file source/entanglish.run_all_py.rst.\n",
      "Creating file source/entanglish.utilities.rst.\n",
      "Creating file source/modules.rst.\n"
     ]
    }
   ],
   "source": [
    "!sphinx-apidoc --separate -f -o source/ ../entanglish"
   ]
  },
  {
   "cell_type": "code",
   "execution_count": 3,
   "metadata": {
    "scrolled": false
   },
   "outputs": [
    {
     "data": {
      "text/plain": [
       "['Running Sphinx v2.1.0',\n",
       " 'loading pickled environment... done',\n",
       " 'building [mo]: targets for 0 po files that are out of date',\n",
       " 'building [html]: targets for 1 source files that are out of date',\n",
       " 'updating environment: [] 2 added, 10 changed, 0 removed',\n",
       " 'reading sources... [  8%] entanglish                                           ',\n",
       " 'reading sources... [ 16%] entanglish.DenMat                                    ',\n",
       " 'reading sources... [ 25%] entanglish.DenMatPertTheory                          ',\n",
       " 'reading sources... [ 33%] entanglish.EntangCase                                ',\n",
       " 'reading sources... [ 41%] entanglish.FormationEnt                              ',\n",
       " 'reading sources... [ 50%] entanglish.OtherStates                               ',\n",
       " 'reading sources... [ 58%] entanglish.PureStEnt                                 ',\n",
       " 'reading sources... [ 66%] entanglish.SquashedEnt                               ',\n",
       " 'reading sources... [ 75%] entanglish.TwoQubitState                             ',\n",
       " 'reading sources... [ 83%] entanglish.run_all_nb                                ',\n",
       " 'reading sources... [ 91%] entanglish.tempo                                     ',\n",
       " 'reading sources... [100%] entanglish.utilities                                 ',\n",
       " '',\n",
       " 'C:\\\\Users\\\\rrtuc\\\\Desktop\\\\backed-up\\\\python-projects\\\\entanglish\\\\entanglish\\\\DenMat.py:docstring of entanglish.DenMat.DenMat.__imul__:1: WARNING: Inline emphasis start-string without end-string.',\n",
       " 'C:\\\\Users\\\\rrtuc\\\\Desktop\\\\backed-up\\\\python-projects\\\\entanglish\\\\entanglish\\\\DenMat.py:docstring of entanglish.DenMat.DenMat.set_arr_from_st_vec:1: WARNING: Inline substitution_reference start-string without end-string.',\n",
       " 'C:\\\\Users\\\\rrtuc\\\\Desktop\\\\backed-up\\\\python-projects\\\\entanglish\\\\entanglish\\\\DenMatPertTheory.py:docstring of entanglish.DenMatPertTheory.DenMatPertTheory:55: WARNING: Inline substitution_reference start-string without end-string.',\n",
       " 'C:\\\\Users\\\\rrtuc\\\\Desktop\\\\backed-up\\\\python-projects\\\\entanglish\\\\entanglish\\\\FormationEnt.py:docstring of entanglish.FormationEnt.FormationEnt:8: WARNING: Undefined substitution referenced: \"psi[alp]><psi[alp]\".',\n",
       " 'C:\\\\Users\\\\rrtuc\\\\Desktop\\\\backed-up\\\\python-projects\\\\entanglish\\\\entanglish\\\\PureStEnt.py:docstring of entanglish.PureStEnt.PureStEnt:1: WARNING: Undefined substitution referenced: \"psi_xy> where x and y constitute a bi-partition of the set of all qudits. E_xy is defined here as the von Neumann entropy S(dm_x) of a density matrix dm_x, where dm_x = trace_y dm_xy, where dm_xy = |psi_xy><psi_xy\".',\n",
       " 'C:\\\\Users\\\\rrtuc\\\\Desktop\\\\backed-up\\\\python-projects\\\\entanglish\\\\entanglish\\\\TwoQubitState.py:docstring of entanglish.TwoQubitState.TwoQubitState.get_bell_basis_st_vec:5: WARNING: Inline substitution_reference start-string without end-string.',\n",
       " 'C:\\\\Users\\\\rrtuc\\\\Desktop\\\\backed-up\\\\python-projects\\\\entanglish\\\\entanglish\\\\TwoQubitState.py:docstring of entanglish.TwoQubitState.TwoQubitState.get_bell_basis_st_vec:5: WARNING: Inline substitution_reference start-string without end-string.',\n",
       " 'C:\\\\Users\\\\rrtuc\\\\Desktop\\\\backed-up\\\\python-projects\\\\entanglish\\\\entanglish\\\\TwoQubitState.py:docstring of entanglish.TwoQubitState.TwoQubitState.get_bell_basis_st_vec:5: WARNING: Inline substitution_reference start-string without end-string.',\n",
       " 'C:\\\\Users\\\\rrtuc\\\\Desktop\\\\backed-up\\\\python-projects\\\\entanglish\\\\entanglish\\\\TwoQubitState.py:docstring of entanglish.TwoQubitState.TwoQubitState.get_bell_basis_st_vec:5: WARNING: Inline substitution_reference start-string without end-string.',\n",
       " 'C:\\\\Users\\\\rrtuc\\\\Desktop\\\\backed-up\\\\python-projects\\\\entanglish\\\\entanglish\\\\TwoQubitState.py:docstring of entanglish.TwoQubitState.TwoQubitState.get_bell_basis_st_vec:5: WARNING: Inline substitution_reference start-string without end-string.',\n",
       " 'C:\\\\Users\\\\rrtuc\\\\Desktop\\\\backed-up\\\\python-projects\\\\entanglish\\\\entanglish\\\\TwoQubitState.py:docstring of entanglish.TwoQubitState.TwoQubitState.get_bell_basis_st_vec:5: WARNING: Inline substitution_reference start-string without end-string.',\n",
       " 'C:\\\\Users\\\\rrtuc\\\\Desktop\\\\backed-up\\\\python-projects\\\\entanglish\\\\entanglish\\\\TwoQubitState.py:docstring of entanglish.TwoQubitState.TwoQubitState.get_bell_basis_st_vec:5: WARNING: Inline substitution_reference start-string without end-string.',\n",
       " 'C:\\\\Users\\\\rrtuc\\\\Desktop\\\\backed-up\\\\python-projects\\\\entanglish\\\\entanglish\\\\TwoQubitState.py:docstring of entanglish.TwoQubitState.TwoQubitState.get_bell_basis_st_vec:5: WARNING: Inline substitution_reference start-string without end-string.',\n",
       " 'C:\\\\Users\\\\rrtuc\\\\Desktop\\\\backed-up\\\\python-projects\\\\entanglish\\\\entanglish\\\\TwoQubitState.py:docstring of entanglish.TwoQubitState.TwoQubitState.get_bell_basis_st_vec:5: WARNING: Inline substitution_reference start-string without end-string.',\n",
       " 'C:\\\\Users\\\\rrtuc\\\\Desktop\\\\backed-up\\\\python-projects\\\\entanglish\\\\entanglish\\\\TwoQubitState.py:docstring of entanglish.TwoQubitState.TwoQubitState.get_bell_basis_st_vec:5: WARNING: Inline substitution_reference start-string without end-string.',\n",
       " 'C:\\\\Users\\\\rrtuc\\\\Desktop\\\\backed-up\\\\python-projects\\\\entanglish\\\\entanglish\\\\TwoQubitState.py:docstring of entanglish.TwoQubitState.TwoQubitState.get_bell_basis_st_vec:5: WARNING: Inline substitution_reference start-string without end-string.',\n",
       " 'C:\\\\Users\\\\rrtuc\\\\Desktop\\\\backed-up\\\\python-projects\\\\entanglish\\\\entanglish\\\\TwoQubitState.py:docstring of entanglish.TwoQubitState.TwoQubitState.get_bell_basis_st_vec:5: WARNING: Inline substitution_reference start-string without end-string.',\n",
       " \"WARNING: autodoc: failed to import module 'run_all_nb' from module 'entanglish'; the following exception was raised:\",\n",
       " 'Traceback (most recent call last):',\n",
       " '  File \"C:\\\\Users\\\\rrtuc\\\\Anaconda3\\\\lib\\\\site-packages\\\\sphinx\\\\ext\\\\autodoc\\\\importer.py\", line 36, in import_module',\n",
       " '    __import__(modname)',\n",
       " '  File \"C:\\\\Users\\\\rrtuc\\\\Desktop\\\\backed-up\\\\python-projects\\\\entanglish\\\\entanglish\\\\run_all_nb.py\", line 9, in <module>',\n",
       " '    for fname in os.listdir(dir_name):',\n",
       " \"FileNotFoundError: [WinError 3] The system cannot find the path specified: 'jupyter_notebooks'\",\n",
       " '',\n",
       " \"WARNING: autodoc: failed to import module 'tempo' from module 'entanglish'; the following exception was raised:\",\n",
       " \"No module named 'entanglish.tempo'\",\n",
       " 'looking for now-outdated files... none found',\n",
       " 'pickling environment... done',\n",
       " \"checking consistency... C:\\\\Users\\\\rrtuc\\\\Desktop\\\\backed-up\\\\python-projects\\\\entanglish\\\\sphinx_doc\\\\source\\\\entanglish.tempo.rst: WARNING: document isn't included in any toctree\",\n",
       " \"C:\\\\Users\\\\rrtuc\\\\Desktop\\\\backed-up\\\\python-projects\\\\entanglish\\\\sphinx_doc\\\\source\\\\modules.rst: WARNING: document isn't included in any toctree\",\n",
       " 'done',\n",
       " 'preparing documents... done',\n",
       " 'writing output... [  7%] entanglish                                            ',\n",
       " 'writing output... [ 14%] entanglish.DenMat                                     ',\n",
       " 'writing output... [ 21%] entanglish.DenMatPertTheory                           ',\n",
       " 'writing output... [ 28%] entanglish.EntangCase                                 ',\n",
       " 'writing output... [ 35%] entanglish.FormationEnt                               ',\n",
       " 'writing output... [ 42%] entanglish.OtherStates                                ',\n",
       " 'writing output... [ 50%] entanglish.PureStEnt                                  ',\n",
       " 'writing output... [ 57%] entanglish.SquashedEnt                                ',\n",
       " 'writing output... [ 64%] entanglish.TwoQubitState                              ',\n",
       " 'writing output... [ 71%] entanglish.run_all_nb                                 ',\n",
       " 'writing output... [ 78%] entanglish.tempo                                      ',\n",
       " 'writing output... [ 85%] entanglish.utilities                                  ',\n",
       " 'writing output... [ 92%] index                                                 ',\n",
       " 'writing output... [100%] modules                                               ',\n",
       " '',\n",
       " 'generating indices... genindex py-modindex',\n",
       " 'highlighting module code... [  7%] entanglish.DenMat                           ',\n",
       " 'highlighting module code... [ 15%] entanglish.DenMatPertTheory                 ',\n",
       " 'highlighting module code... [ 23%] entanglish.EntangCase                       ',\n",
       " 'highlighting module code... [ 30%] entanglish.FormationEnt                     ',\n",
       " 'highlighting module code... [ 38%] entanglish.MaxEntangState                   ',\n",
       " 'highlighting module code... [ 46%] entanglish.OtherStates                      ',\n",
       " 'highlighting module code... [ 53%] entanglish.PureStEnt                        ',\n",
       " 'highlighting module code... [ 61%] entanglish.SquashedEnt                      ',\n",
       " 'highlighting module code... [ 69%] entanglish.SymNupState                      ',\n",
       " 'highlighting module code... [ 76%] entanglish.TwoQubitState                    ',\n",
       " 'highlighting module code... [ 84%] entanglish.utilities                        ',\n",
       " 'highlighting module code... [ 92%] graphviz.files                              ',\n",
       " 'highlighting module code... [100%] networkx.classes.digraph                    ',\n",
       " '',\n",
       " 'writing additional pages... searchC:\\\\Users\\\\rrtuc\\\\Anaconda3\\\\lib\\\\site-packages\\\\sphinx_rtd_theme\\\\search.html:20: RemovedInSphinx30Warning: To modify script_files in the theme is deprecated. Please insert a <script> tag directly in your theme instead.',\n",
       " '  {{ super() }}',\n",
       " '',\n",
       " 'copying static files... done',\n",
       " 'copying extra files... done',\n",
       " 'dumping search index in English (code: en) ... done',\n",
       " 'dumping object inventory... done',\n",
       " 'build succeeded, 21 warnings.',\n",
       " '',\n",
       " 'The HTML pages are in build\\\\html.']"
      ]
     },
     "execution_count": 3,
     "metadata": {},
     "output_type": "execute_result"
    }
   ],
   "source": [
    "%system make html O=-a"
   ]
  },
  {
   "cell_type": "code",
   "execution_count": null,
   "metadata": {},
   "outputs": [],
   "source": []
  },
  {
   "cell_type": "code",
   "execution_count": null,
   "metadata": {},
   "outputs": [],
   "source": []
  }
 ],
 "metadata": {
  "kernelspec": {
   "display_name": "Python 3",
   "language": "python",
   "name": "python3"
  },
  "language_info": {
   "codemirror_mode": {
    "name": "ipython",
    "version": 3
   },
   "file_extension": ".py",
   "mimetype": "text/x-python",
   "name": "python",
   "nbconvert_exporter": "python",
   "pygments_lexer": "ipython3",
   "version": "3.7.3"
  }
 },
 "nbformat": 4,
 "nbformat_minor": 2
}
