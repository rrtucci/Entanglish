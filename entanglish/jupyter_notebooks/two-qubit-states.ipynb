{
 "cells": [
  {
   "cell_type": "markdown",
   "metadata": {},
   "source": [
    "# Two Qubit States\n",
    "$$\n",
    " \\newcommand{\\ul}[1]{\\underline{#1}}\n",
    " \\newcommand{\\rvx}[0]{{\\ul{x}}}\n",
    "\\newcommand{\\rvy}[0]{{\\ul{y}}}\n",
    "\\newcommand{\\bra}[1]{\\langle#1|}\n",
    "\\newcommand{\\ket}[1]{|#1\\rangle}\n",
    "\\newcommand{\\calh}[0]{{\\cal H}}\n",
    "\\newcommand{\\tr}[0]{{\\rm tr }}\n",
    "\\newcommand{\\alp}[0]{\\alpha}\n",
    "$$\n",
    "\n",
    "The purpose of this notebook is to\n",
    "illustrate the use of entanglish's class TwoQubitState which contains \n",
    "methods for calculating quantities related to entanglement for\n",
    "2 qubit states (Bell Basis states, states that are diagonal\n",
    "in the Bell Basis such as Werner states, etc.)\n",
    "In particular, the class calculates \n",
    "the entanglement of formation\n",
    "of an arbitrary density matrix of 2 qubits."
   ]
  },
  {
   "cell_type": "markdown",
   "metadata": {},
   "source": [
    "First change your working directory to the entanglish directory in your computer, and add its path to the path environment variable."
   ]
  },
  {
   "cell_type": "code",
   "execution_count": 1,
   "metadata": {},
   "outputs": [
    {
     "name": "stdout",
     "output_type": "stream",
     "text": [
      "C:\\Users\\rrtuc\\Desktop\\backed-up\\python-projects\\entanglish\\entanglish\\jupyter_notebooks\n",
      "C:\\Users\\rrtuc\\Desktop\\backed-up\\python-projects\\entanglish\n"
     ]
    }
   ],
   "source": [
    "import os\n",
    "import sys\n",
    "print(os.getcwd())\n",
    "os.chdir('../../')\n",
    "print(os.getcwd())\n",
    "sys.path.insert(0,os.getcwd())"
   ]
  },
  {
   "cell_type": "code",
   "execution_count": 2,
   "metadata": {},
   "outputs": [],
   "source": [
    "from entanglish.EntangCase import *\n",
    "from entanglish.PureStEnt import *\n",
    "from entanglish.TwoQubitState import *\n"
   ]
  },
  {
   "cell_type": "markdown",
   "metadata": {},
   "source": [
    "## Bell Basis states\n",
    "\n",
    "Suppose $\\calh_\\rvx$ is the linear span of\n",
    "two orthonormal states $\\ket{0}_\\rvx$ and \n",
    "$\\ket{1}_\\rvx$. Define $\\calh_\\rvy$ analogously to\n",
    "$\\calh_\\rvx$ but with $\\rvx$ replaced by $\\rvy$.\n",
    "Let $\\calh_{\\rvx, \\rvy}= \\calh_\\rvx\\otimes\\calh_\\rvy$.\n",
    "The following 4 states are usually called the Bell Basis of\n",
    "$\\calh_{\\rvx\\rvy}$:\n",
    "\n",
    "$$\n",
    "\\ket{\\Phi^\\pm}=\\ket{=^\\pm}=\\frac{1}{\\sqrt{2}}(\\ket{00}_{\\rvx,\\rvy}\\pm\n",
    "\\ket{11}_{\\rvx,\\rvy})$$\n",
    "\n",
    "$$\n",
    "\\ket{\\Psi^\\pm}=\\ket{\\neq^\\pm}=\\frac{1}{\\sqrt{2}}(\\ket{01}_{\\rvx,\\rvy}\\pm\\ket{10}_{\\rvx,\\rvy})$$\n",
    "\n",
    "In Entanglish, we denote\n",
    "\n",
    "$=+$ by `'==+'`,\n",
    "\n",
    "$=-$ by `'==-'`,\n",
    "\n",
    "$\\neq+$ by `'!=+'`,\n",
    "\n",
    "$\\neq-$ by `'!=-'`.\n",
    "\n",
    "Next we print for each of the four Bell Basis states,\n",
    "its state vector and its entanglement profile.\n",
    "\n",
    "The entanglement profile of a density matrix\n",
    "$\\rho$ with number of rows `num_rows` and row shape `row_shape`  $=(n_0, n_1, \\ldots ,n_{L-1})$, \n",
    "gives for each possible bipartition $\\rvx, \\rvy$ of set $\\{0, 1, \\ldots , L-1\\}$,\n",
    "the entanglement for that bipartition and the\n",
    "maximum possible entanglement. (A bipartition of a set $A$\n",
    "is a pair of non-empty disjoint sets whose union is $A$).\n",
    "\n",
    "For a pure state \n",
    "$\\rho_{\\rvx, \\rvy}=\\ket{\\psi}_{\\rvx,\\rvy}\\bra{\\psi}_{\\rvx,\\rvy}$,\n",
    "the entanglement equals the von Neumann entropy of \n",
    "$\\rho_\\rvx=\\tr_\\rvy \\rho_{\\rvx, \\rvy}$.\n",
    "\n",
    " The 4 Bell Basis states are maximally entangled\n",
    " with entanglement $\\ln 2$."
   ]
  },
  {
   "cell_type": "code",
   "execution_count": 3,
   "metadata": {},
   "outputs": [
    {
     "name": "stdout",
     "output_type": "stream",
     "text": [
      "----------key: !=+\n",
      "st_vec=\n",
      " [0.        +0.j 0.70710678+0.j 0.70710678+0.j 0.        +0.j]\n",
      "bi-partition half-size=1\n",
      "(0 | 1) :\t 0.69315, max-entang= 0.69315\n",
      "(1 | 0) :\t 0.69315, max-entang= 0.69315\n",
      "\n",
      "----------key: ==-\n",
      "st_vec=\n",
      " [ 0.70710678+0.j  0.        +0.j  0.        +0.j -0.70710678+0.j]\n",
      "bi-partition half-size=1\n",
      "(0 | 1) :\t 0.69315, max-entang= 0.69315\n",
      "(1 | 0) :\t 0.69315, max-entang= 0.69315\n",
      "\n",
      "----------key: !=-\n",
      "st_vec=\n",
      " [ 0.        +0.j  0.70710678+0.j -0.70710678+0.j  0.        +0.j]\n",
      "bi-partition half-size=1\n",
      "(0 | 1) :\t 0.69315, max-entang= 0.69315\n",
      "(1 | 0) :\t 0.69315, max-entang= 0.69315\n",
      "\n",
      "----------key: ==+\n",
      "st_vec=\n",
      " [0.70710678+0.j 0.        +0.j 0.        +0.j 0.70710678+0.j]\n",
      "bi-partition half-size=1\n",
      "(0 | 1) :\t 0.69315, max-entang= 0.69315\n",
      "(1 | 0) :\t 0.69315, max-entang= 0.69315\n",
      "\n"
     ]
    }
   ],
   "source": [
    "for key in TwoQubitState.bell_key_set():\n",
    "    st_vec = TwoQubitState.get_bell_basis_st_vec(key)\n",
    "    dm = DenMat(4, (2, 2))\n",
    "    dm.set_arr_from_st_vec(st_vec)\n",
    "    ecase = PureStEnt(dm)\n",
    "    pf = ecase.get_entang_profile()\n",
    "    print('----------key:', key)\n",
    "    print(\"st_vec=\\n\", st_vec)\n",
    "    ecase.print_entang_profiles([pf], dm.row_shape)"
   ]
  },
  {
   "cell_type": "markdown",
   "metadata": {},
   "source": [
    "## Entanglement of Formation\n",
    "\n",
    "The Entanglement of Formation of a\n",
    "density matrix $\\rho_{\\rvx, \\rvy}$ is defined as\n",
    "\n",
    "$$E(\\rho_{\\rvx, \\rvy}) = \\sum_\\alp w^\\alp \\; {\\rm min}S(\\rho_\\rvx^\\alp)$$\n",
    "\n",
    "where $S(\\rho_\\rvx^\\alp)$ is the von Neumann entropy for  density matrix \n",
    "$\\rho_\\rvx^\\alp = \\tr_\\rvy \\rho_{\\rvx, \\rvy}^\\alp$. \n",
    "The minimum is over all  $\\rho_{\\rvx, \\rvy}^\\alp$ such that\n",
    "$\\rho_{\\rvx, \\rvy}^\\alp$ is a pure state \n",
    "$\\ket{\\psi_{\\rvx, \\rvy}^\\alp}\\bra{\\psi_{\\rvx, \\rvy}^\\alp}$, and \n",
    "$\\sum_\\alp w^\\alp\n",
    "\\rho_{\\rvx, \\rvy}^\\alp =  \\rho_{\\rvx, \\rvy}$ where\n",
    "$\\rho_{\\rvx, \\rvy}$ is a given, fixed density matrix.\n",
    "      \n",
    "A closed exact formula is known, thanks to Wootters et al., for the\n",
    "entanglement of formation of an arbitrary mixture of 2 qubits. Class\n",
    "TwoQubitState of entanglish contains an implementation of said formula.\n",
    "We show how to use that next.\n",
    "\n"
   ]
  },
  {
   "cell_type": "code",
   "execution_count": 4,
   "metadata": {},
   "outputs": [
    {
     "name": "stdout",
     "output_type": "stream",
     "text": [
      "----------dm1\n",
      "formation_entang= 0.17344269198907492\n",
      "----------dm2\n",
      "formation_entang= 0.0\n",
      "----------dm3\n",
      "formation_entang= 0.07852966445691076\n"
     ]
    }
   ],
   "source": [
    "dm1 = TwoQubitState.get_bell_basis_diag_dm(fid=.7)\n",
    "# print('arr=\\n', dm1.arr)\n",
    "np.random.seed(123)\n",
    "dm2 = DenMat(4, (2, 2))\n",
    "dm2.set_arr_to_rand_den_mat(np.array([.1, .2, .3, .4]))\n",
    "dm3 = DenMat(4, (2, 2))\n",
    "dm3.set_arr_to_rand_den_mat(np.array([.1, .1, .1, .7]))\n",
    "k=0\n",
    "for dm in [dm1, dm2, dm3]:\n",
    "    k += 1\n",
    "    print(\"----------dm\" + str(k))\n",
    "    print(\"formation_entang=\",\n",
    "          TwoQubitState.get_known_formation_entang(dm))\n"
   ]
  },
  {
   "cell_type": "markdown",
   "metadata": {},
   "source": [
    "Next we plot the Formation Entanglement/ln(2) versus Fidelity for the \"isotropic Werner state\" (of 2 qubits)"
   ]
  },
  {
   "cell_type": "code",
   "execution_count": 8,
   "metadata": {},
   "outputs": [
    {
     "data": {
      "image/png": "[encoded data removed]",
      "text/plain": [
       "<Figure size 432x288 with 1 Axes>"
      ]
     },
     "metadata": {
      "needs_background": "light"
     },
     "output_type": "display_data"
    }
   ],
   "source": [
    "import matplotlib.pyplot as plt\n",
    "xvals = np.arange(0, 1.05, .05)\n",
    "ln2 = np.log(2)\n",
    "yvals = [TwoQubitState.get_known_formation_entang(\n",
    "    TwoQubitState.get_bell_basis_diag_dm(fid))/ln2 for fid in xvals]\n",
    "plt.plot(xvals, yvals)\n",
    "plt.xlabel('Fidelity, F')\n",
    "plt.ylabel('Formation Entang/ln(2)')\n",
    "plt.axis([0, 1, 0, 1])\n",
    "plt.grid(True)\n",
    "plt.xticks(np.arange(0, 1.1, step=0.1))\n",
    "plt.yticks(np.arange(0, 1.1, step=0.1))\n",
    "plt.show()"
   ]
  },
  {
   "cell_type": "code",
   "execution_count": null,
   "metadata": {},
   "outputs": [],
   "source": []
  }
 ],
 "metadata": {
  "kernelspec": {
   "display_name": "Python 3",
   "language": "python",
   "name": "python3"
  },
  "language_info": {
   "codemirror_mode": {
    "name": "ipython",
    "version": 3
   },
   "file_extension": ".py",
   "mimetype": "text/x-python",
   "name": "python",
   "nbconvert_exporter": "python",
   "pygments_lexer": "ipython3",
   "version": "3.7.3"
  }
 },
 "nbformat": 4,
 "nbformat_minor": 2
}
