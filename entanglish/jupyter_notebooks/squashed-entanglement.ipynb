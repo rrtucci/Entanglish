{
 "cells": [
  {
   "cell_type": "markdown",
   "metadata": {},
   "source": [
    "# Squashed Entanglement\n",
    "$$\n",
    " \\newcommand{\\ul}[1]{\\underline{#1}}\n",
    " \\newcommand{\\rvalp}[0]{{\\ul{\\alpha}}}\n",
    "\\newcommand{\\alp}[0]{{\\alpha}}\n",
    " \\newcommand{\\rvx}[0]{{\\ul{x}}}\n",
    "\\newcommand{\\rvy}[0]{{\\ul{y}}}\n",
    "$$\n",
    "\n",
    "The purpose of this notebook is to show how to use entanglish to\n",
    "calculate the squashed entanglement of a mixed state (either pure or not pure).\n",
    "\n",
    "Consider a bipartite system\n",
    "consisting of two parts labelled\n",
    "by the random variables $\\rvx$ and $\\rvy$,\n",
    "and\n",
    "described by a density matrix $\\rho_{\\rvx, \\rvy}$.\n",
    "The squashed entanglement of  such a system\n",
    "is defined as\n",
    "\n",
    "$$\n",
    "E_{\\rvx, \\rvy}(\\rho_{\\rvx, \\rvy}) =\n",
    "\\frac{1}{2}\n",
    "\\min S(\\rvx : \\rvy|\\rvalp)\n",
    "\\;.\n",
    "$$\n",
    "The min()---or infimum()\n",
    "if one wishes to be more mathematically\n",
    "precise--is\n",
    "over all density matrices $\\rho_{\\rvx, \\rvy,\\rvalp}$\n",
    "such that ${\\rm tr}_\\rvalp \\; \\rho_{\\rvx, \\rvy,\\rvalp}=\n",
    "\\rho_{\\rvx, \\rvy}$ with $\\rho_{\\rvx, \\rvy}$ held fixed.\n",
    "If $\\rho_{\\rvx, \\rvy}$ is a pure state, then\n",
    "$E_{\\rvx, \\rvy} = S(\\rvx) = S(\\rvy)$.\n",
    "Entanglish-Original-Ref discusses other interesting\n",
    "properties of squashed entanglement\n",
    "\n",
    "Entanglish-Original-Ref also describes the algo\n",
    "used by Entanglish to calculate squashed entanglement. The\n",
    "algorithm is recursive. \n",
    "The number of recursive steps \n",
    "can be chosen by the user and is called num_ab_steps (ab stands\n",
    "for Arimoto-Blahut).\n",
    "Another parameter of the algorithm is num_hidden_states, which is the number of possible \n",
    "$\\rvalp$ values.\n",
    "\n",
    " \n",
    "**Entanglish-Original-Ref**\n",
    "* \"A New  Algorithm for Calculating\n",
    "Squashed Entanglement and a Python Implementation Thereof\", by R.R.Tucci"
   ]
  },
  {
   "cell_type": "markdown",
   "metadata": {},
   "source": [
    "First change your working directory to the entanglish directory in your computer, and add its path to the path environment variable."
   ]
  },
  {
   "cell_type": "code",
   "execution_count": 1,
   "metadata": {},
   "outputs": [
    {
     "name": "stdout",
     "output_type": "stream",
     "text": [
      "C:\\Users\\rrtuc\\Desktop\\backed-up\\python-projects\\entanglish\\entanglish\\jupyter_notebooks\n",
      "C:\\Users\\rrtuc\\Desktop\\backed-up\\python-projects\\entanglish\n"
     ]
    }
   ],
   "source": [
    "import os\n",
    "import sys\n",
    "print(os.getcwd())\n",
    "os.chdir('../../')\n",
    "print(os.getcwd())\n",
    "sys.path.insert(0,os.getcwd())"
   ]
  },
  {
   "cell_type": "code",
   "execution_count": 2,
   "metadata": {},
   "outputs": [],
   "source": [
    "from entanglish.SymNupState import *\n",
    "from entanglish.SquashedEnt import *"
   ]
  },
  {
   "cell_type": "markdown",
   "metadata": {},
   "source": [
    "## pure states (symmetrized n-up states)\n",
    "Next we construct a symmetrized n-up pure state.\n",
    "Then we compare the Arimoto-Blahut algo entanglement value to the known \n",
    "entanglement value, for various possible\n",
    "bi-partitions of the set of row axes. As expected, they are equal."
   ]
  },
  {
   "cell_type": "code",
   "execution_count": 3,
   "metadata": {},
   "outputs": [
    {
     "name": "stdout",
     "output_type": "stream",
     "text": [
      "num_hidden_states= 10\n",
      "num_ab_steps= 40\n",
      "entang_023: algo value, known value\n",
      " 0.5604666871435801 0.5623351446188083\n",
      "entang_02: algo value, known value\n",
      " 0.6923093475198853 0.6931471805599453\n",
      "entang_1: algo value, known value\n",
      " 0.5604666871435822 0.5623351446188083\n"
     ]
    }
   ],
   "source": [
    "num_bits = 4\n",
    "num_up = 1\n",
    "dm1 = DenMat(1 << num_bits, tuple([2]*num_bits))\n",
    "st = SymNupState(num_up, num_bits)\n",
    "st_vec = st.get_st_vec()\n",
    "dm1.set_arr_from_st_vec(st_vec)\n",
    "\n",
    "num_hidden_states = 10\n",
    "num_ab_steps = 40\n",
    "print('num_hidden_states=', num_hidden_states)\n",
    "print('num_ab_steps=', num_ab_steps)\n",
    "ecase = SquashedEnt(\n",
    "    dm1, num_hidden_states, num_ab_steps, verbose=False)\n",
    "print('entang_023: algo value, known value\\n',\n",
    "      ecase.get_entang({0, 2, 3}),\n",
    "      st.get_known_entang(3))\n",
    "print('entang_02: algo value, known value\\n',\n",
    "      ecase.get_entang({0, 2}),\n",
    "      st.get_known_entang(2))\n",
    "print('entang_1: algo value, known value\\n',\n",
    "      ecase.get_entang({1}),\n",
    "      st.get_known_entang(1))\n"
   ]
  },
  {
   "cell_type": "markdown",
   "metadata": {},
   "source": [
    "## random density matrices\n",
    "Next we consider 2 random density matrices (actually,\n",
    "only their eigenvectors are random. Their eigenvalues are specified by the user.)\n",
    "For each of those 2 density matrices, we calculate the Arimoto-Blahut algo entanglement value, for various possible\n",
    "bi-partitions of the set of row axes."
   ]
  },
  {
   "cell_type": "code",
   "execution_count": 4,
   "metadata": {},
   "outputs": [
    {
     "name": "stdout",
     "output_type": "stream",
     "text": [
      "num_hidden_states= 10\n",
      "num_ab_steps= 10\n",
      "***************new dm\n",
      "evas_of_dm\n",
      " [0.07 0.03 0.25 0.15 0.3  0.1  0.06 0.04]\n",
      "ent_02_1= 0.04477828015880657\n",
      "***************new dm\n",
      "evas_of_dm\n",
      " [0.05 0.05 0.2  0.2  0.3  0.1  0.06 0.04]\n",
      "ent_02_1= 0.03196234148448192\n"
     ]
    }
   ],
   "source": [
    "np.random.seed(123)\n",
    "dm = DenMat(8, (2, 2, 2))\n",
    "evas_of_dm_list = [\n",
    "    np.array([.07, .03, .25, .15, .3, .1, .06, .04])\n",
    "    , np.array([.05, .05, .2, .2, .3, .1, .06, .04])\n",
    "    ]\n",
    "num_hidden_states = 10\n",
    "num_ab_steps = 10\n",
    "print('num_hidden_states=', num_hidden_states)\n",
    "print('num_ab_steps=', num_ab_steps)\n",
    "for evas_of_dm in evas_of_dm_list:\n",
    "    evas_of_dm /= np.sum(evas_of_dm)\n",
    "    print('***************new dm')\n",
    "    print('evas_of_dm\\n', evas_of_dm)\n",
    "    dm.set_arr_to_rand_den_mat(evas_of_dm)\n",
    "    ecase = SquashedEnt(dm, num_hidden_states, num_ab_steps)\n",
    "    print('ent_02_1=', ecase.get_entang({0, 2}))"
   ]
  },
  {
   "cell_type": "code",
   "execution_count": null,
   "metadata": {},
   "outputs": [],
   "source": []
  }
 ],
 "metadata": {
  "kernelspec": {
   "display_name": "Python 3",
   "language": "python",
   "name": "python3"
  },
  "language_info": {
   "codemirror_mode": {
    "name": "ipython",
    "version": 3
   },
   "file_extension": ".py",
   "mimetype": "text/x-python",
   "name": "python",
   "nbconvert_exporter": "python",
   "pygments_lexer": "ipython3",
   "version": "3.7.3"
  }
 },
 "nbformat": 4,
 "nbformat_minor": 2
}
